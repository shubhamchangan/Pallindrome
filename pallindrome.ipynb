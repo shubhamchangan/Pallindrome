{
 "cells": [
  {
   "cell_type": "code",
   "execution_count": 31,
   "id": "5ab0fe70",
   "metadata": {},
   "outputs": [
    {
     "name": "stdout",
     "output_type": "stream",
     "text": [
      "enter your string==radar\n",
      "radar is pallindrome\n"
     ]
    }
   ],
   "source": [
    "s=input(\"enter your string==\")\n",
    "if s[::-1]==s:\n",
    "    print(s,'is pallindrome')\n",
    "else:\n",
    "    print(s,'is not pallindrome')\n"
   ]
  },
  {
   "cell_type": "code",
   "execution_count": null,
   "id": "8c454a20",
   "metadata": {},
   "outputs": [],
   "source": []
  }
 ],
 "metadata": {
  "kernelspec": {
   "display_name": "Python 3 (ipykernel)",
   "language": "python",
   "name": "python3"
  },
  "language_info": {
   "codemirror_mode": {
    "name": "ipython",
    "version": 3
   },
   "file_extension": ".py",
   "mimetype": "text/x-python",
   "name": "python",
   "nbconvert_exporter": "python",
   "pygments_lexer": "ipython3",
   "version": "3.9.7"
  }
 },
 "nbformat": 4,
 "nbformat_minor": 5
}
